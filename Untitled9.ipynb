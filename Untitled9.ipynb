{
  "nbformat": 4,
  "nbformat_minor": 0,
  "metadata": {
    "colab": {
      "name": "Untitled9.ipynb",
      "provenance": []
    },
    "kernelspec": {
      "name": "python3",
      "display_name": "Python 3"
    },
    "language_info": {
      "name": "python"
    }
  },
  "cells": [
    {
      "cell_type": "code",
      "execution_count": null,
      "metadata": {
        "colab": {
          "base_uri": "https://localhost:8080/"
        },
        "id": "rKbDLIUgcGyp",
        "outputId": "1f8d5a1c-5ce1-4187-d9df-8f164af59f86"
      },
      "outputs": [
        {
          "output_type": "stream",
          "name": "stdout",
          "text": [
            "25\n",
            "<class 'int'>\n"
          ]
        }
      ],
      "source": [
        "\n",
        "angka = 25\n",
        "print (angka)\n",
        "print (type(angka))"
      ]
    },
    {
      "cell_type": "code",
      "source": [
        "\n",
        "nilai = 2.4\n",
        "print (nilai)\n",
        "print (type(nilai))"
      ],
      "metadata": {
        "colab": {
          "base_uri": "https://localhost:8080/"
        },
        "id": "jlPFePktcOem",
        "outputId": "ec729041-9474-4342-deae-572cbe7936f1"
      },
      "execution_count": null,
      "outputs": [
        {
          "output_type": "stream",
          "name": "stdout",
          "text": [
            "2.4\n",
            "<class 'float'>\n"
          ]
        }
      ]
    },
    {
      "cell_type": "code",
      "source": [
        "\n",
        "angka =4<5\n",
        "print (angka)\n",
        "print (type(angka))"
      ],
      "metadata": {
        "colab": {
          "base_uri": "https://localhost:8080/"
        },
        "id": "IN80mBvWcRW4",
        "outputId": "f68a3e6b-2456-4974-ac36-d7495bb3042e"
      },
      "execution_count": null,
      "outputs": [
        {
          "output_type": "stream",
          "name": "stdout",
          "text": [
            "True\n",
            "<class 'bool'>\n"
          ]
        }
      ]
    },
    {
      "cell_type": "code",
      "source": [
        "\n",
        "nama = \"Sitti Rahma Ramadani\"\n",
        "print (nama)\n",
        "print (type(nama))"
      ],
      "metadata": {
        "colab": {
          "base_uri": "https://localhost:8080/"
        },
        "id": "6U86O7s-cUwN",
        "outputId": "0f40780d-dfcb-4f5a-b1a0-010b00b0a696"
      },
      "execution_count": null,
      "outputs": [
        {
          "output_type": "stream",
          "name": "stdout",
          "text": [
            "Sitti Rahma Ramadani\n",
            "<class 'str'>\n"
          ]
        }
      ]
    },
    {
      "cell_type": "code",
      "source": [
        "\n",
        "nilai1 = 11\n",
        "nilai2 = 2\n",
        "print (nilai1 + nilai2)\n",
        "print (nilai1 - nilai2)\n",
        "print(nilai1 * nilai2)\n",
        "print(nilai1 / nilai2)\n",
        "print(nilai1 ** nilai2)\n",
        "print(nilai1 % nilai2)\n",
        "print(nilai1 // nilai2)"
      ],
      "metadata": {
        "colab": {
          "base_uri": "https://localhost:8080/"
        },
        "id": "-77NrJP2cX6s",
        "outputId": "608b551d-2020-4c81-a35b-cc54cafa5238"
      },
      "execution_count": null,
      "outputs": [
        {
          "output_type": "stream",
          "name": "stdout",
          "text": [
            "13\n",
            "9\n",
            "22\n",
            "5.5\n",
            "121\n",
            "1\n",
            "5\n"
          ]
        }
      ]
    },
    {
      "cell_type": "code",
      "source": [
        "\n",
        "nilai = 2\n",
        "nilai += 5\n",
        "print (nilai)\n",
        "nilai = 2\n",
        "nilai *= 5\n",
        "print (nilai)\n",
        "nilai = 2\n",
        "nilai -= 5\n",
        "print (nilai)\n",
        "nilai = 2\n",
        "nilai /= 5\n",
        "print (nilai)\n",
        "nilai = 2\n",
        "nilai %= 5\n",
        "print (nilai)\n",
        "nilai = 2\n",
        "nilai **= 5\n",
        "print (nilai)\n",
        "nilai = 2\n",
        "nilai //= 5\n",
        "print (nilai)"
      ],
      "metadata": {
        "colab": {
          "base_uri": "https://localhost:8080/"
        },
        "id": "p-fm3JpHczYT",
        "outputId": "2bd85be6-cba1-4300-cb62-ef28aeab590c"
      },
      "execution_count": null,
      "outputs": [
        {
          "output_type": "stream",
          "name": "stdout",
          "text": [
            "7\n",
            "10\n",
            "-3\n",
            "0.4\n",
            "2\n",
            "32\n",
            "0\n"
          ]
        }
      ]
    },
    {
      "cell_type": "code",
      "source": [
        "\n",
        "print (1==1)\n",
        "print (2!=4)\n",
        "print (4<3)\n",
        "print (8>11)\n",
        "print (9<=12)\n",
        "print (10>=13)"
      ],
      "metadata": {
        "colab": {
          "base_uri": "https://localhost:8080/"
        },
        "id": "3kwS4vFreaqb",
        "outputId": "71923002-fd90-4315-dbd5-3672c3dec794"
      },
      "execution_count": null,
      "outputs": [
        {
          "output_type": "stream",
          "name": "stdout",
          "text": [
            "True\n",
            "True\n",
            "False\n",
            "False\n",
            "True\n",
            "False\n"
          ]
        }
      ]
    }
  ]
}