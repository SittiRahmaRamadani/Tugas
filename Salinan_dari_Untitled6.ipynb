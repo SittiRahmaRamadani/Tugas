{
  "cells": [
    {
      "cell_type": "markdown",
      "metadata": {
        "id": "view-in-github",
        "colab_type": "text"
      },
      "source": [
        "<a href=\"https://colab.research.google.com/github/SittiRahmaRamadani/Tugas/blob/main/Salinan_dari_Untitled6.ipynb\" target=\"_parent\"><img src=\"https://colab.research.google.com/assets/colab-badge.svg\" alt=\"Open In Colab\"/></a>"
      ]
    },
    {
      "cell_type": "code",
      "source": [
        "\n",
        "def bikin_stack () :\n",
        "        stack = [36,37,38]\n",
        "        return stack\n",
        "        \n",
        "def periksa_empty ( stack ) :\n",
        "        return len (stack) == 0\n",
        "        \n",
        "def push ( stack,item ):\n",
        "        stack.append (item)\n",
        "        print (\"ukuran sendal yang dikembalikan:\",item)\n",
        "        \n",
        "def pop (stack) :\n",
        "        if (periksa_empty (stack)) :\n",
        "            return print (\"ukuran sendal pada rak kosong\")\n",
        "        print (\"ukuran sendal yang diambil:\",stack.pop())\n",
        "        \n",
        "def size (stack) :\n",
        "        print (\"jumlah sendal pada rak:\" ,len(stack))\n",
        "        \n",
        "def top (stack):\n",
        "        top = len (stack) -1\n",
        "        if top < 0 :\n",
        "            print (\" tidak terdefenisi\")\n",
        "        else :\n",
        "            print (\"ukuran sendal yang teratas:\" , stack [top])\n",
        "            \n",
        "def tampilkan (stack) :\n",
        "        print (stack)\n",
        "        \n",
        "            \n",
        "s = bikin_stack ()\n",
        "print (\" tumpukan ukuran sendal pada rak \")\n",
        "\n",
        "\n",
        "#Data awal stack\n",
        "print (\"ukuran sendal yang yang berada di tumpukan saat ini:  \",s) \n",
        "\n",
        "size (s)\n",
        "top (s)\n",
        "print ()\n",
        "\n",
        "#Meminjam ukuran pada sendal\n",
        "pop (s)\n",
        "pop (s)\n",
        "pop (s)\n",
        "print (\"ukuran sendal yang berada di tumpukan saat ini:  \",s) \n",
        "top (s)\n",
        "size (s)\n",
        "print ()\n",
        "\n",
        "#Mengembalikan ukuran pada sendal\n",
        "push (s,input())\n",
        "push (s,input())\n",
        "push (s,input ())\n",
        "print (\"ukuran sendal yang yang berada pada tumpukan saat ini:  \",s)"
      ],
      "metadata": {
        "colab": {
          "base_uri": "https://localhost:8080/"
        },
        "id": "O33r4IAi5PC6",
        "outputId": "ff69c578-0b7d-42d1-d28b-b0f42cb849ac"
      },
      "execution_count": null,
      "outputs": [
        {
          "output_type": "stream",
          "name": "stdout",
          "text": [
            " tumpukan ukuran sendal pada rak \n",
            "ukuran sendal yang yang berada di tumpukan saat ini:   [36, 37, 38]\n",
            "jumlah sendal pada rak: 3\n",
            "ukuran sendal yang teratas: 38\n",
            "\n",
            "ukuran sendal yang diambil: 38\n",
            "ukuran sendal yang diambil: 37\n",
            "ukuran sendal yang diambil: 36\n",
            "ukuran sendal yang berada di tumpukan saat ini:   []\n",
            " tidak terdefenisi\n",
            "jumlah sendal pada rak: 0\n",
            "\n",
            "38\n",
            "ukuran sendal yang dikembalikan: 38\n",
            "37\n",
            "ukuran sendal yang dikembalikan: 37\n",
            "36\n",
            "ukuran sendal yang dikembalikan: 36\n",
            "ukuran sendal yang yang berada pada tumpukan saat ini:   ['38', '37', '36']\n"
          ]
        }
      ]
    },
    {
      "cell_type": "code",
      "execution_count": null,
      "metadata": {
        "colab": {
          "base_uri": "https://localhost:8080/"
        },
        "id": "fEhRnmpgglyr",
        "outputId": "f4b4e160-bbfa-4a11-e7ce-0947e674bed8"
      },
      "outputs": [
        {
          "output_type": "stream",
          "name": "stdout",
          "text": [
            "Masukkan Ukuran Maksimal Queue: 3\n",
            "\n",
            "1. Enqueue => Menambah Antrian\n",
            "2. Dequeue => Menghapus dari Antrian\n",
            "3. Full => Memeriksa Apakah Queue Penuh\n",
            "4. Size => Melihat Ukuran Queue\n",
            "Ketik 8 untuk berhenti\n",
            "Masukkan Perintah: 8\n",
            "\n"
          ]
        }
      ],
      "source": [
        "\n",
        "queue = []\n",
        "max_size = int(input(\"Masukkan Ukuran Maksimal Queue: \"))\n",
        "\n",
        "def isEmpty():\n",
        "    if len(queue) == 0:\n",
        "        print(\"Queue Kosong.\")\n",
        "        return True\n",
        "    return False\n",
        "    \n",
        "def isFull():\n",
        "    if len(queue) == max_size:\n",
        "        print(\"Queue Penuh.\")\n",
        "        return True\n",
        "    return False\n",
        "        \n",
        "def dequeue():\n",
        "    if isEmpty() == False:\n",
        "        print(queue.pop(0), \"terhapus dari queue.\")\n",
        "\n",
        "def enqueue():\n",
        "    if isFull() == False:\n",
        "        x = input(\"Masukkan Antrian Baru: \")\n",
        "        queue.append(x)\n",
        "        print(x, \"ditambahkan ke queue.\")\n",
        "\n",
        "p = 0\n",
        "while p != '8':\n",
        "    print('''\\n1. Enqueue => Menambah Antrian\n",
        "2. Dequeue => Menghapus dari Antrian\n",
        "3. Full => Memeriksa Apakah Queue Penuh\n",
        "4. Size => Melihat Ukuran Queue''')\n",
        "    p = input(\"Ketik 8 untuk berhenti\\nMasukkan Perintah: \")\n",
        "    print()\n",
        "    \n",
        "    if p == '2':\n",
        "        enqueue()\n",
        "    elif p == '3':\n",
        "        dequeue()\n",
        "    elif p == '4':\n",
        "        if isFull() == False:\n",
        "            print(\"Queue belum penuh.\")\n",
        "    elif p == '5':\n",
        "        print(\"Ukuran queue saat ini: \", len(queue), \"\\nUkuran maksimal queue: \", max_size)"
      ]
    }
  ],
  "metadata": {
    "colab": {
      "name": "Salinan dari Untitled6.ipynb",
      "provenance": [],
      "authorship_tag": "ABX9TyNX3WDAXMN6NZLhUQqVp+3E",
      "include_colab_link": true
    },
    "kernelspec": {
      "display_name": "Python 3",
      "name": "python3"
    },
    "language_info": {
      "name": "python"
    }
  },
  "nbformat": 4,
  "nbformat_minor": 0
}